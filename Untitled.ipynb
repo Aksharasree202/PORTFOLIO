{
  "cells": [
    {
      "cell_type": "markdown",
      "metadata": {
        "id": "view-in-github",
        "colab_type": "text"
      },
      "source": [
        "<a href=\"https://colab.research.google.com/github/Aksharasree202/PORTFOLIO/blob/main/Untitled.ipynb\" target=\"_parent\"><img src=\"https://colab.research.google.com/assets/colab-badge.svg\" alt=\"Open In Colab\"/></a>"
      ]
    },
    {
      "cell_type": "code",
      "execution_count": null,
      "metadata": {
        "colab": {
          "background_save": true
        },
        "id": "_HK8lD3UoR0Y"
      },
      "outputs": [],
      "source": [
        "# Step 1: Import libraries\n",
        "import tensorflow as tf\n",
        "from tensorflow import keras\n",
        "from tensorflow.keras import layers\n",
        "import numpy as np\n",
        "import matplotlib.pyplot as plt\n",
        "import cv2\n",
        "from google.colab.patches import cv2_imshow\n",
        "\n",
        "# Step 2: Load MNIST dataset (handwritten digits)\n",
        "(x_train, y_train), (x_test, y_test) = keras.datasets.mnist.load_data()\n",
        "\n",
        "# Step 3: Preprocess data (normalize & reshape)\n",
        "x_train, x_test = x_train / 255.0, x_test / 255.0  # Normalize\n",
        "x_train = x_train.reshape(-1, 28, 28, 1)  # Reshape for CNN\n",
        "x_test = x_test.reshape(-1, 28, 28, 1)\n",
        "\n",
        "# Step 4: Define the CNN model\n",
        "model = keras.Sequential([\n",
        "    layers.Conv2D(32, (3,3), activation='relu', input_shape=(28, 28, 1)),\n",
        "    layers.MaxPooling2D((2,2)),\n",
        "    layers.Conv2D(64, (3,3), activation='relu'),\n",
        "    layers.MaxPooling2D((2,2)),\n",
        "    layers.Flatten(),\n",
        "    layers.Dense(128, activation='relu'),\n",
        "    layers.Dense(10, activation='softmax')  # Output layer (10 digits)\n",
        "])\n",
        "\n",
        "# Step 5: Compile the model\n",
        "model.compile(optimizer='adam',\n",
        "              loss='sparse_categorical_crossentropy',\n",
        "              metrics=['accuracy'])\n",
        "\n",
        "# Step 6: Train the model\n",
        "print(\"\\nTraining model...\")\n",
        "model.fit(x_train, y_train, epochs=5, validation_data=(x_test, y_test))\n",
        "\n",
        "# Step 7: Save the trained model\n",
        "model.save(\"mnist_digit_model.h5\")\n",
        "print(\"\\nModel saved!\")\n",
        "\n",
        "# Step 8: Function to predict a drawn digit\n",
        "def predict_digit(img):\n",
        "    img = cv2.resize(img, (28, 28))  # Resize to 28x28 pixels\n",
        "    img = img / 255.0  # Normalize\n",
        "    img = img.reshape(1, 28, 28, 1)  # Reshape for CNN\n",
        "    prediction = model.predict(img)\n",
        "    return np.argmax(prediction)  # Get the predicted digit\n",
        "\n",
        "# Step 9: Draw a digit & predict it\n",
        "print(\"\\nDraw a digit (0-9) in the next step...\")\n",
        "\n",
        "# Create a blank white canvas for drawing\n",
        "canvas = np.ones((300, 300), dtype=\"uint8\") * 255\n",
        "cv2_imshow(canvas)\n",
        "print(\"\\nUse a simple drawing tool (like Paint) to create a black digit on a white background.\")\n",
        "\n",
        "# Load the drawn image (Manually upload a drawn digit)\n",
        "from google.colab import files\n",
        "uploaded = files.upload()\n",
        "img_name = list(uploaded.keys())[0]\n",
        "\n",
        "# Step 10: Load and predict the drawn digit\n",
        "img = cv2.imread(img_name, cv2.IMREAD_GRAYSCALE)\n",
        "cv2_imshow(img)  # Show the uploaded image\n",
        "\n",
        "predicted_digit = predict_digit(img)\n",
        "print(f\"\\nPredicted digit: {predicted_digit}\")"
      ]
    }
  ],
  "metadata": {
    "colab": {
      "provenance": [],
      "authorship_tag": "ABX9TyMtq1jfK44h9rLNqKL+q9ya",
      "include_colab_link": true
    },
    "kernelspec": {
      "display_name": "Python 3",
      "name": "python3"
    },
    "language_info": {
      "name": "python"
    }
  },
  "nbformat": 4,
  "nbformat_minor": 0
}